{
  "nbformat": 4,
  "nbformat_minor": 0,
  "metadata": {
    "colab": {
      "name": "deep_sort_carpet.ipynb",
      "provenance": [],
      "collapsed_sections": [],
      "authorship_tag": "ABX9TyMDCg0SyCsm3F4zqBJqeZc8",
      "include_colab_link": true
    },
    "kernelspec": {
      "name": "python3",
      "display_name": "Python 3"
    },
    "language_info": {
      "name": "python"
    }
  },
  "cells": [
    {
      "cell_type": "markdown",
      "metadata": {
        "id": "view-in-github",
        "colab_type": "text"
      },
      "source": [
        "<a href=\"https://colab.research.google.com/github/zyakubova86/eventide-only-frontend/blob/master/deep_sort_carpet.ipynb\" target=\"_parent\"><img src=\"https://colab.research.google.com/assets/colab-badge.svg\" alt=\"Open In Colab\"/></a>"
      ]
    },
    {
      "cell_type": "code",
      "metadata": {
        "id": "s9-tTpEJAAuF"
      },
      "source": [
        "# clone repository for deepsort with yolov4\n",
        "!git clone https://github.com/theAIGuysCode/yolov4-deepsort"
      ],
      "execution_count": null,
      "outputs": []
    },
    {
      "cell_type": "code",
      "metadata": {
        "id": "ByWR_bhyAney",
        "colab": {
          "base_uri": "https://localhost:8080/"
        },
        "outputId": "36269530-5360-43ec-e537-cdeb033e3885"
      },
      "source": [
        "# step into the yolov4-deepsort folder\n",
        "%cd /content/yolov4-deepsort"
      ],
      "execution_count": null,
      "outputs": [
        {
          "output_type": "stream",
          "name": "stdout",
          "text": [
            "/content/yolov4-deepsort\n"
          ]
        }
      ]
    },
    {
      "cell_type": "code",
      "metadata": {
        "colab": {
          "base_uri": "https://localhost:8080/"
        },
        "id": "_Dq2fBrLCYSH",
        "outputId": "4517a760-7c8e-4feb-86c5-8ff0602b4bb4"
      },
      "source": [
        "# TensorFlow GPU\n",
        "%pip install -qr requirements-gpu.txt"
      ],
      "execution_count": null,
      "outputs": [
        {
          "output_type": "stream",
          "name": "stdout",
          "text": [
            "\u001b[K     |████████████████████████████████| 489.6 MB 19 kB/s \n",
            "\u001b[K     |████████████████████████████████| 5.8 MB 48.1 MB/s \n",
            "\u001b[31mERROR: pip's dependency resolver does not currently take into account all the packages that are installed. This behaviour is the source of the following dependency conflicts.\n",
            "tensorflow 2.3.0rc0 requires tensorboard<2.3.0,>=2.2.0, but you have tensorboard 2.7.0 which is incompatible.\u001b[0m\n",
            "\u001b[?25h"
          ]
        }
      ]
    },
    {
      "cell_type": "code",
      "metadata": {
        "id": "p5T6zZyfArYt"
      },
      "source": [
        "%cd /content/yolov4-deepsort\n",
        "!python save_model.py --model yolov4"
      ],
      "execution_count": null,
      "outputs": []
    },
    {
      "cell_type": "code",
      "metadata": {
        "id": "vhyCLjeyBByo"
      },
      "source": [
        "# run DeepSort with YOLOv4 Object Detections as backbone (enable --info flag to see info about tracked objects)\n",
        "!python object_tracker.py --video ./data/video/2.mp4 --output ./outputs/test.avi --model yolov4 --dont_show --info"
      ],
      "execution_count": null,
      "outputs": []
    },
    {
      "cell_type": "code",
      "metadata": {
        "id": "j9LKDJZkBepS"
      },
      "source": [
        "# compressed the voutput video because jupyter notebook not displaying biggere size video. \n",
        "from ipywidgets import Video\n",
        "Video.from_file(\"/content/yolov4-deepsort/outputs/test.mp4\", width=800, height=400)"
      ],
      "execution_count": null,
      "outputs": []
    },
    {
      "cell_type": "code",
      "metadata": {
        "colab": {
          "base_uri": "https://localhost:8080/"
        },
        "id": "FrsLbChlVu2z",
        "outputId": "2b9d4b3d-7f9e-459d-ae1a-ced73682fec3"
      },
      "source": [
        "from google.colab import drive\n",
        "drive.mount('/content/gdrive')\n"
      ],
      "execution_count": null,
      "outputs": [
        {
          "output_type": "stream",
          "name": "stdout",
          "text": [
            "Mounted at /content/gdrive\n"
          ]
        }
      ]
    },
    {
      "cell_type": "code",
      "metadata": {
        "id": "_67__0cUV1dG"
      },
      "source": [
        "%cp -r /content/yolov4-deepsort /content/gdrive/MyDrive/deep"
      ],
      "execution_count": null,
      "outputs": []
    }
  ]
}